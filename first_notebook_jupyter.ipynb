{
 "cells": [
  {
   "cell_type": "markdown",
   "id": "plastic-tragedy",
   "metadata": {},
   "source": [
    "# First Jupyter Notebook\n",
    "\n",
    "### Dependencies\n",
    "\n",
    "This needs to have jupyterlab installed in your virtual environment.\n",
    "\n",
    "\n",
    "```\n",
    "pip install jupyterlab\n",
    "```"
   ]
  },
  {
   "cell_type": "code",
   "execution_count": 1,
   "id": "fantastic-laser",
   "metadata": {},
   "outputs": [],
   "source": [
    "first_name = 'Galileo'"
   ]
  },
  {
   "cell_type": "code",
   "execution_count": 2,
   "id": "adapted-music",
   "metadata": {},
   "outputs": [],
   "source": [
    "last_name = 'Guzman'"
   ]
  },
  {
   "cell_type": "code",
   "execution_count": 5,
   "id": "freelance-navigator",
   "metadata": {},
   "outputs": [
    {
     "name": "stdout",
     "output_type": "stream",
     "text": [
      "GalileoGalileoGalileoGalileoGalileo\n"
     ]
    }
   ],
   "source": [
    "print(first_name*5)"
   ]
  },
  {
   "cell_type": "code",
   "execution_count": 6,
   "id": "quality-mitchell",
   "metadata": {},
   "outputs": [
    {
     "data": {
      "text/plain": [
       "'GuzmanGuzmanGuzmanGuzmanGuzmanGuzmanGuzmanGuzmanGuzman'"
      ]
     },
     "execution_count": 6,
     "metadata": {},
     "output_type": "execute_result"
    }
   ],
   "source": [
    "last_name * 9"
   ]
  },
  {
   "cell_type": "code",
   "execution_count": null,
   "id": "educated-contractor",
   "metadata": {},
   "outputs": [],
   "source": []
  }
 ],
 "metadata": {
  "kernelspec": {
   "display_name": "Python 3",
   "language": "python",
   "name": "python3"
  },
  "language_info": {
   "codemirror_mode": {
    "name": "ipython",
    "version": 3
   },
   "file_extension": ".py",
   "mimetype": "text/x-python",
   "name": "python",
   "nbconvert_exporter": "python",
   "pygments_lexer": "ipython3",
   "version": "3.8.3"
  }
 },
 "nbformat": 4,
 "nbformat_minor": 5
}
